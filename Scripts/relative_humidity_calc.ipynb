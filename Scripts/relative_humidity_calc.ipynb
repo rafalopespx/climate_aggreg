{
 "cells": [
  {
   "cell_type": "markdown",
   "id": "1bd7bad4-b5f8-4cde-aca3-62bd94f04905",
   "metadata": {},
   "source": [
    "# Relative Humidity Calculator"
   ]
  },
  {
   "cell_type": "code",
   "execution_count": 1,
   "id": "9d60ea50-a69d-4b3d-8cfc-161266042cc6",
   "metadata": {},
   "outputs": [],
   "source": [
    "# Loading necessaries libraries\n",
    "from metpy.calc import relative_humidity_from_dewpoint\n",
    "from metpy.units import units\n",
    "import xarray as xr"
   ]
  },
  {
   "cell_type": "markdown",
   "id": "be769e76-1f33-4ad4-a242-5a0cdf0f50de",
   "metadata": {},
   "source": [
    "# Defining the calculator"
   ]
  },
  {
   "cell_type": "code",
   "execution_count": null,
   "id": "6bc34816-f616-4a20-afcc-3d8ae609fde8",
   "metadata": {},
   "outputs": [],
   "source": [
    "d2m=xr.load_dataset(f'../Data/Raw_ERA5Land/era5land_hourly_dpt2m_sp_y2009.nc')['d2m']\n",
    "t2m=xr.load_dataset(f'../Data/Raw_ERA5Land/era5land_hourly_t2m_y2009_extracted03092021.nc')['t2m']\n",
    "\n",
    "meteoDataDF=(xr.merge([d2m,t2m])\n",
    "           #.resample(time='1D').mean('time')\n",
    "           .assign(rh=lambda dd: xr.apply_ufunc(\n",
    "                relative_humidity_from_dewpoint, \n",
    "                dd['t2m']* units.kelvin, \n",
    "                dd['d2m']* units.kelvin, \n",
    "                    )\n",
    "                 )\n",
    "            .to_dataframe()\n",
    "            .reset_index()\n",
    "            .drop(columns=['d2m','t2m'])\n",
    "           )"
   ]
  },
  {
   "cell_type": "markdown",
   "id": "e36de0cf-3e50-41ea-bfe2-e648d58fa458",
   "metadata": {},
   "source": [
    "# Saving the Relative Humidty"
   ]
  },
  {
   "cell_type": "code",
   "execution_count": null,
   "id": "c0512c39-9878-4e5d-b743-1f8b63828ce2",
   "metadata": {},
   "outputs": [],
   "source": [
    ".reset_index().set_index(['time','longitude','latitude']).to_xarray().to_netcdf(f'../Data/ERA5Land_aggregated/relative_humidity_y2009.nc')"
   ]
  }
 ],
 "metadata": {
  "kernelspec": {
   "display_name": "Python 3 (ipykernel)",
   "language": "python",
   "name": "python3"
  },
  "language_info": {
   "codemirror_mode": {
    "name": "ipython",
    "version": 3
   },
   "file_extension": ".py",
   "mimetype": "text/x-python",
   "name": "python",
   "nbconvert_exporter": "python",
   "pygments_lexer": "ipython3",
   "version": "3.9.7"
  }
 },
 "nbformat": 4,
 "nbformat_minor": 5
}
